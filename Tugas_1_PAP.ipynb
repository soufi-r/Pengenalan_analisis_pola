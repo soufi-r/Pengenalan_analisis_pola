{
  "nbformat": 4,
  "nbformat_minor": 0,
  "metadata": {
    "colab": {
      "provenance": [],
      "authorship_tag": "ABX9TyP8mL4eM9FHzCbF53wj0aFU",
      "include_colab_link": true
    },
    "kernelspec": {
      "name": "python3",
      "display_name": "Python 3"
    },
    "language_info": {
      "name": "python"
    }
  },
  "cells": [
    {
      "cell_type": "markdown",
      "metadata": {
        "id": "view-in-github",
        "colab_type": "text"
      },
      "source": [
        "<a href=\"https://colab.research.google.com/github/soufi-r/Pengenalan_analisis_pola/blob/main/Tugas_1_PAP.ipynb\" target=\"_parent\"><img src=\"https://colab.research.google.com/assets/colab-badge.svg\" alt=\"Open In Colab\"/></a>"
      ]
    },
    {
      "cell_type": "markdown",
      "source": [
        "#Tugas Mengukur dan menganalisis kemiripan dua dokumen\n",
        "Bandingkan dua buah artikel jurnal yang ditulis dalam bahasa yang sama, misalnya bahasa Inggris. Gunakan fitur n-gram. Analisa dampak dari penentuan nilai n dalam n-gram. Minimal n = 1,2,3.\n",
        "\n",
        "Bandingkan hasil anda dengan perangkat lunak komersial atau yang ada di internet, misalnya plagiarism-X atau yang lain.\n",
        "Pada tugas ini anda tidak perlu melakukan penghapusan kata, penggantian kata dg sinonim ataupun stemming."
      ],
      "metadata": {
        "id": "GSjYgVIp3tFb"
      }
    },
    {
      "cell_type": "code",
      "execution_count": null,
      "metadata": {
        "id": "YxnzG8f23sbJ"
      },
      "outputs": [],
      "source": [
        "pip install PyPDF2"
      ]
    },
    {
      "cell_type": "code",
      "source": [
        "from google.colab import drive\n",
        "drive.mount('/content/drive')"
      ],
      "metadata": {
        "id": "5TgzuqKk3v8x"
      },
      "execution_count": null,
      "outputs": []
    },
    {
      "cell_type": "code",
      "source": [
        "import re\n",
        "import PyPDF2\n",
        "from collections import Counter\n",
        "\n",
        "def pdf_to_txt (pdf_file,txt_file):\n",
        "    \"\"\"\n",
        "    Membaca file PDF dan menyimpannya menjadi file TXT\n",
        "    \"\"\"\n",
        "    with open(pdf_file, \"rb\") as f:\n",
        "        reader = PyPDF2.PdfReader(f)\n",
        "        text = \"\"\n",
        "        for page in reader.pages:\n",
        "            text += page.extract_text() + \"\\n\"\n",
        "\n",
        "    # Simpan ke file TXT\n",
        "    with open(txt_file, \"w\", encoding=\"utf-8\") as out:\n",
        "        out.write(text)\n",
        "\n",
        "def generate_ngrams(text, n):\n",
        "    \"\"\"\n",
        "    Membuat n-grams dari teks.\n",
        "    Tidak ada preprocessing (hanya lowercasing & split spasi).\n",
        "    \"\"\"\n",
        "    tokens = text.lower().split()\n",
        "    ngrams = [' '.join(tokens[i:i+n]) for i in range(len(tokens)-n+1)]\n",
        "    return ngrams\n",
        "\n",
        "def jaccard_similarity(ngrams1, ngrams2):\n",
        "    \"\"\"\n",
        "    Menghitung Jaccard Similarity antara dua set n-gram\n",
        "    \"\"\"\n",
        "    set1, set2 = set(ngrams1), set(ngrams2)\n",
        "    intersection = len(set1.intersection(set2))\n",
        "    union = len(set1.union(set2))\n",
        "    return intersection / union if union != 0 else 0\n"
      ],
      "metadata": {
        "id": "hdPwQcTJ3xS4"
      },
      "execution_count": null,
      "outputs": []
    },
    {
      "cell_type": "code",
      "source": [
        "# ================== MAIN PROGRAM ==================\n",
        "#load dan rubah pdf menjadi txt\n",
        "pdf_to_txt(\"/content/drive/MyDrive/Consumption of Ultra-Processed Foods and Metabolic parameters in type 2 diabetes melitus.pdf\", \"doc1.txt\")\n",
        "pdf_to_txt(\"/content/drive/MyDrive/Impact of ultra‑processed foods consumption on the burden of obesity and type 2 diabetes in belgium.pdf\", \"doc2.txt\")\n",
        "print(\"Konversi selesai! File doc1.txt dan doc2.txt siap dipakai.\")\n",
        "\n",
        "# Baca dua dokumen dari file txt\n",
        "with open(\"doc1.txt\", \"r\", encoding=\"utf-8\") as f:\n",
        "    doc1 = f.read()\n",
        "\n",
        "with open(\"doc2.txt\", \"r\", encoding=\"utf-8\") as f:\n",
        "    doc2 = f.read()\n",
        "\n",
        "# Hitung similarity untuk n=1,2,3\n",
        "for n in [1, 2, 3]:\n",
        "    ngrams1 = generate_ngrams(doc1, n)\n",
        "    ngrams2 = generate_ngrams(doc2, n)\n",
        "    sim = jaccard_similarity(ngrams1, ngrams2)\n",
        "    print(f\"Jaccard Similarity (n={n}): {sim:.3f}\")"
      ],
      "metadata": {
        "id": "R38ksNQd3zRq"
      },
      "execution_count": null,
      "outputs": []
    }
  ]
}